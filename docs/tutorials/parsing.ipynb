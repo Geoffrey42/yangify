{
 "cells": [
  {
   "cell_type": "code",
   "execution_count": 1,
   "metadata": {
    "nbsphinx": "hidden"
   },
   "outputs": [],
   "source": [
    "import inspect\n",
    "from pygments import highlight\n",
    "from pygments.lexers import get_lexer_by_name\n",
    "from pygments.formatters import Terminal256Formatter\n",
    "\n",
    "def show_code(obj):\n",
    "    code = inspect.getsource(obj)\n",
    "    lexer = get_lexer_by_name(\"python\", stripall=True)\n",
    "    formatter = Terminal256Formatter(linenos=True, cssclass=\"source\")\n",
    "    result = highlight(code, lexer, formatter)\n",
    "    print(result)    "
   ]
  },
  {
   "cell_type": "markdown",
   "metadata": {},
   "source": [
    "# Parsing\n",
    "\n",
    "<div class=\"alert alert-info\">\n",
    "Before starting, it's important to look at the [parser API](../api/parser.rst#module-yangify.parser) and [parse_indented_config](../api/parser.rst#yangify.parser.text_tree.parse_indented_config). It may look like a lot and some parts may not make sense at this point but it will help understanding the tutorial.\n",
    "</div>\n",
    "\n",
    "We are going to see how to parse configuration by example. To do that we are going to use a modified/simplified version of the ``openconfig-interfaces`` and ``openconfig-vlan`` models. Note they have been slightly modified for simplicity and brevity.\n",
    "\n",
    "Let's start by looking at the ASCII tree representation of the model:\n",
    "\n",
    "```\n",
    "+--rw openconfig-interfaces:interfaces\n",
    "|  +--rw interface* [name]\n",
    "|     +--rw config\n",
    "|     |  +--rw description? <string>\n",
    "|     |  +--rw enabled? <boolean>\n",
    "|     |  +--rw loopback-mode? <boolean>\n",
    "|     |  +--rw mtu? <uint16>\n",
    "|     |  +--rw name? <string>\n",
    "|     |  +--rw type <identityref>\n",
    "|     +--rw name <leafref>\n",
    "|     +--rw subinterfaces\n",
    "|        +--rw subinterface* [index]\n",
    "|           +--rw config\n",
    "|           |  +--rw description? <string>\n",
    "|           |  +--rw enabled? <boolean>\n",
    "|           |  +--rw index? <uint32>\n",
    "|           +--rw index <leafref>\n",
    "+--rw openconfig-vlan:vlans\n",
    "   +--rw vlan* [vlan-id]\n",
    "      +--rw config\n",
    "      |  +--rw name? <string>\n",
    "      |  +--rw status? <enumeration>\n",
    "      |  +--rw vlan-id? <vlan-id(uint16)>\n",
    "      +--rw vlan-id <leafref>\n",
    "```\n",
    "\n",
    "To write a parser you are going to need to write a class following the rules below:\n",
    "\n",
    "1. A grouping (either a list or a container) is represented by a class that inherits from ``yangify.parsers.Parser``.\n",
    "2. Classes that implement a part of the tree are nested in the parent object and are named as the grouping it implements.\n",
    "3. Each class may have a nested class named ``Yangify`` that inherits from ``yangify.parsers.ParserData``. This class may implement code to help with the processing. See the API documentation for details.\n",
    "4. Finally, leaves are processed by a function named after the leaf and will have to return an object of the correct type.\n",
    "\n",
    "Using the ``openconfig-vlans:vlans`` as an example, a parser may look like this:\n",
    "\n",
    "``` python\n",
    "class Vlans(Parser):\n",
    "    class vlan(Parser):\n",
    "        class Yangify(ParserData):\n",
    "            def extract_elements(self):\n",
    "                # code to extra each element from the config goes here\n",
    "\n",
    "        class config(Parser):\n",
    "            def vlan_id(self):\n",
    "                # code to parse the vlan id goes here\n",
    "\n",
    "            def name(self):\n",
    "                # code to parse the name goes here\n",
    "\n",
    "            def status(self):\n",
    "                # code to parse the vlan status goes here\n",
    "\n",
    "        def vlan_id(self):\n",
    "                # code to parse the vlan id goes here\n",
    "```\n",
    "\n",
    "This format may be a bit cumbersome in deeply nested models, hence, an alternative maybe to use classes in the global namespace instead, for instance:\n",
    "\n",
    "``` python\n",
    "class VlanConfig(Parser):\n",
    "    def vlan_id(self):\n",
    "        # code to parse the vlan id goes here\n",
    "\n",
    "    def name(self):\n",
    "        # code to parse the name goes here\n",
    "\n",
    "    def status(self):\n",
    "        # code to parse the vlan status goes here\n",
    "            \n",
    "class Vlan(Parser):\n",
    "    class Yangify(ParserData):\n",
    "        def extract_elements(self):\n",
    "            # code to extra each element from the config goes here\n",
    "\n",
    "    config = VlanConfig\n",
    "            \n",
    "    def vlan_id(self):\n",
    "            # code to parse the vlan id goes here\n",
    "\n",
    "class Vlans(Parser):\n",
    "    vlan = Vlan\n",
    "```\n",
    "\n",
    "Both are equivalent and both have their advantages and disadvantages when it comes to readibility. We are going to use the second method for this demo."
   ]
  },
  {
   "cell_type": "markdown",
   "metadata": {},
   "source": [
    "## The `openconfig-interfaces` parser\n",
    "\n",
    "To explain how this works we are going to write a parser that reads a configuration belonging to an IOS device and maps it into the model. Let's look at the configuration first:\n",
    "\n",
    "\n"
   ]
  },
  {
   "cell_type": "code",
   "execution_count": 2,
   "metadata": {},
   "outputs": [
    {
     "name": "stdout",
     "output_type": "stream",
     "text": [
      "interface FastEthernet1\r\n",
      "   description This is Fa1\r\n",
      "   shutdown\r\n",
      "   exit\r\n",
      "!\r\n",
      "interface FastEthernet1.1\r\n",
      "   description This is Fa1.1\r\n",
      "   exit\r\n",
      "!\r\n",
      "interface FastEthernet1.2\r\n",
      "   description This is Fa1.2\r\n",
      "   exit\r\n",
      "!\r\n",
      "interface FastEthernet3\r\n",
      "   description This is Fa3\r\n",
      "   no shutdown\r\n",
      "   exit\r\n",
      "!\r\n",
      "interface FastEthernet4\r\n",
      "   shutdown\r\n",
      "   exit\r\n",
      "!\r\n",
      "vlan 10\r\n",
      "   name prod\r\n",
      "   no shutdown\r\n",
      "   exit\r\n",
      "!\r\n",
      "vlan 20\r\n",
      "   name dev\r\n",
      "   shutdown\r\n",
      "   exit\r\n",
      "!\r\n"
     ]
    }
   ],
   "source": [
    "%cat data/ios/config.txt"
   ]
  },
  {
   "cell_type": "markdown",
   "metadata": {},
   "source": [
    "Nothing very complex, just a few interfaces and subinterfaces and a couple of vlans. The code for this tutorial is in `tutorial_parser.py`, so let's start by importing it:"
   ]
  },
  {
   "cell_type": "code",
   "execution_count": 3,
   "metadata": {},
   "outputs": [],
   "source": [
    "import tutorial_parser"
   ]
  },
  {
   "cell_type": "markdown",
   "metadata": {},
   "source": [
    "Now that we have imported the code let's start looking at the code piece by piece. The starting point is going to be the class `Interfaces` which will be used to parse `openconfig-interfaces:interfaces`:"
   ]
  },
  {
   "cell_type": "code",
   "execution_count": 4,
   "metadata": {},
   "outputs": [
    {
     "name": "stdout",
     "output_type": "stream",
     "text": [
      "\u001b[38;5;28;01mclass\u001b[39;00m \u001b[38;5;21;01mInterfaces\u001b[39;00m(Parser):\n",
      "    \u001b[38;5;124m\"\"\"\u001b[39m\n",
      "\u001b[38;5;124m    Implements openconfig-interfaces:interfaces\u001b[39m\n",
      "\u001b[38;5;124m    \"\"\"\u001b[39m\n",
      "\n",
      "    interface \u001b[38;5;241m=\u001b[39m Interface\n",
      "\n"
     ]
    }
   ],
   "source": [
    "show_code(tutorial_parser.Interfaces)"
   ]
  },
  {
   "cell_type": "markdown",
   "metadata": {},
   "source": [
    "Not much here. The container `openconfig-interfaces:interfaces` only has a YANG list in the `interface` node. As `interface` is a grouping a different `Parser` class is used. Let's look at it:"
   ]
  },
  {
   "cell_type": "code",
   "execution_count": 5,
   "metadata": {},
   "outputs": [
    {
     "name": "stdout",
     "output_type": "stream",
     "text": [
      "\u001b[38;5;28;01mclass\u001b[39;00m \u001b[38;5;21;01mInterface\u001b[39;00m(Parser):\n",
      "    \u001b[38;5;124m\"\"\"\u001b[39m\n",
      "\u001b[38;5;124m    Implements openconfig-interfaces:interfaces/interface\u001b[39m\n",
      "\u001b[38;5;124m    \"\"\"\u001b[39m\n",
      "\n",
      "    \u001b[38;5;28;01mclass\u001b[39;00m \u001b[38;5;21;01mYangify\u001b[39;00m(ParserData):\n",
      "        \u001b[38;5;28;01mdef\u001b[39;00m \u001b[38;5;21mextract_elements\u001b[39m(\u001b[38;5;28mself\u001b[39m) \u001b[38;5;241m-\u001b[39m\u001b[38;5;241m>\u001b[39m Iterator[Tuple[\u001b[38;5;28mstr\u001b[39m, Dict[\u001b[38;5;28mstr\u001b[39m, Any]]]:\n",
      "            \u001b[38;5;124m\"\"\"\u001b[39m\n",
      "\u001b[38;5;124m            IOS interfaces are in the root of the configuration. However,\u001b[39m\n",
      "\u001b[38;5;124m            subinterfaces are also in the root of the configuration. For\u001b[39m\n",
      "\u001b[38;5;124m            that reason we will have to make sure that we filter the\u001b[39m\n",
      "\u001b[38;5;124m            subinterfaces as we iterate over all the interfaces in the root\u001b[39m\n",
      "\u001b[38;5;124m            of the configuration. That's should be as easy as checking that\u001b[39m\n",
      "\u001b[38;5;124m            the interface name has not dot in it.\u001b[39m\n",
      "\u001b[38;5;124m            \"\"\"\u001b[39m\n",
      "            \u001b[38;5;28;01mfor\u001b[39;00m k, v \u001b[38;5;129;01min\u001b[39;00m \u001b[38;5;28mself\u001b[39m\u001b[38;5;241m.\u001b[39mnative[\u001b[38;5;124m\"\u001b[39m\u001b[38;5;124minterface\u001b[39m\u001b[38;5;124m\"\u001b[39m]\u001b[38;5;241m.\u001b[39mitems():\n",
      "                \u001b[38;5;66m# k == \"#text\" is due to a harmless artifact in the\u001b[39m\n",
      "                \u001b[38;5;66m# parse_indented_config function that needs to be addressed\u001b[39m\n",
      "                \u001b[38;5;28;01mif\u001b[39;00m k \u001b[38;5;241m==\u001b[39m \u001b[38;5;124m\"\u001b[39m\u001b[38;5;124m#text\u001b[39m\u001b[38;5;124m\"\u001b[39m \u001b[38;5;129;01mor\u001b[39;00m \u001b[38;5;124m\"\u001b[39m\u001b[38;5;124m.\u001b[39m\u001b[38;5;124m\"\u001b[39m \u001b[38;5;129;01min\u001b[39;00m k:\n",
      "                    \u001b[38;5;28;01mcontinue\u001b[39;00m\n",
      "                \u001b[38;5;28;01myield\u001b[39;00m k, v\n",
      "\n",
      "    config \u001b[38;5;241m=\u001b[39m InterfaceConfig\n",
      "    subinterfaces \u001b[38;5;241m=\u001b[39m Subinterfaces\n",
      "\n",
      "    \u001b[38;5;28;01mdef\u001b[39;00m \u001b[38;5;21mname\u001b[39m(\u001b[38;5;28mself\u001b[39m) \u001b[38;5;241m-\u001b[39m\u001b[38;5;241m>\u001b[39m \u001b[38;5;28mstr\u001b[39m:\n",
      "        \u001b[38;5;28;01mreturn\u001b[39;00m \u001b[38;5;28mself\u001b[39m\u001b[38;5;241m.\u001b[39myy\u001b[38;5;241m.\u001b[39mkey\n",
      "\n"
     ]
    }
   ],
   "source": [
    "show_code(tutorial_parser.Interface)"
   ]
  },
  {
   "cell_type": "markdown",
   "metadata": {},
   "source": [
    "This one is more interesting. It has a few things:\n",
    "\n",
    "1. A ``Yangify`` class that implements `extract_elements`. This is mandatory as `openconfig-interfaces:interfaces/interface` is a YANG list.\n",
    "2. It has a ``config`` attribute that corresponds to the container `openconfig-interfaces:interfaces/interface/config` and points to the `Parser` class `InterfaceConfig`\n",
    "3. It also has a ``subinterfaces`` attribute that correspononds to the container `openconfig-interfaces:interfaces/interface/subinterfaces`\n",
    "4. Finally, it has a function to extract the leaf corresponding to `openconfig-interfaces:interfaces/interface/name`.\n",
    "\n",
    "Two things to note here:\n",
    "\n",
    "1. As explained in the API section linked in the note block early in this document, `Yangify.extract_elements` is used to extract each element returning its key and relevant configuration data.\n",
    "2. The key is automatically added to the dictionary inside `self.yy.keys` using the path to the node as the key and made easily available via the shortcut property `self.yy.key`. This can be used, for instance, when returning the name of the interface, which we already know as it's the same as key.\n",
    "\n",
    "Now let's look at the `InterfaceConfig` class that implements `openconfig-interfaces:interfaces/interface/config`:"
   ]
  },
  {
   "cell_type": "code",
   "execution_count": 6,
   "metadata": {},
   "outputs": [
    {
     "name": "stdout",
     "output_type": "stream",
     "text": [
      "\u001b[38;5;28;01mclass\u001b[39;00m \u001b[38;5;21;01mInterfaceConfig\u001b[39;00m(Parser):\n",
      "    \u001b[38;5;124m\"\"\"\u001b[39m\n",
      "\u001b[38;5;124m    Implements openconfig-interfaces:interfaces/interface/config\u001b[39m\n",
      "\u001b[38;5;124m    \"\"\"\u001b[39m\n",
      "\n",
      "    \u001b[38;5;28;01mdef\u001b[39;00m \u001b[38;5;21mdescription\u001b[39m(\u001b[38;5;28mself\u001b[39m) \u001b[38;5;241m-\u001b[39m\u001b[38;5;241m>\u001b[39m Optional[\u001b[38;5;28mstr\u001b[39m]:\n",
      "        \u001b[38;5;28;01mreturn\u001b[39;00m cast(Optional[\u001b[38;5;28mstr\u001b[39m], \u001b[38;5;28mself\u001b[39m\u001b[38;5;241m.\u001b[39myy\u001b[38;5;241m.\u001b[39mnative\u001b[38;5;241m.\u001b[39mget(\u001b[38;5;124m\"\u001b[39m\u001b[38;5;124mdescription\u001b[39m\u001b[38;5;124m\"\u001b[39m, {})\u001b[38;5;241m.\u001b[39mget(\u001b[38;5;124m\"\u001b[39m\u001b[38;5;124m#text\u001b[39m\u001b[38;5;124m\"\u001b[39m))\n",
      "\n",
      "    \u001b[38;5;28;01mdef\u001b[39;00m \u001b[38;5;21menabled\u001b[39m(\u001b[38;5;28mself\u001b[39m) \u001b[38;5;241m-\u001b[39m\u001b[38;5;241m>\u001b[39m \u001b[38;5;28mbool\u001b[39m:\n",
      "        shutdown \u001b[38;5;241m=\u001b[39m \u001b[38;5;28mself\u001b[39m\u001b[38;5;241m.\u001b[39myy\u001b[38;5;241m.\u001b[39mnative\u001b[38;5;241m.\u001b[39mget(\u001b[38;5;124m\"\u001b[39m\u001b[38;5;124mshutdown\u001b[39m\u001b[38;5;124m\"\u001b[39m, {})\u001b[38;5;241m.\u001b[39mget(\u001b[38;5;124m\"\u001b[39m\u001b[38;5;124m#standalone\u001b[39m\u001b[38;5;124m\"\u001b[39m)\n",
      "        \u001b[38;5;28;01mif\u001b[39;00m shutdown:\n",
      "            \u001b[38;5;28;01mreturn\u001b[39;00m \u001b[38;5;28;01mFalse\u001b[39;00m\n",
      "        \u001b[38;5;28;01melse\u001b[39;00m:\n",
      "            \u001b[38;5;28;01mreturn\u001b[39;00m \u001b[38;5;28;01mTrue\u001b[39;00m\n",
      "\n",
      "    \u001b[38;5;28;01mdef\u001b[39;00m \u001b[38;5;21mname\u001b[39m(\u001b[38;5;28mself\u001b[39m) \u001b[38;5;241m-\u001b[39m\u001b[38;5;241m>\u001b[39m \u001b[38;5;28mstr\u001b[39m:\n",
      "        \u001b[38;5;28;01mreturn\u001b[39;00m \u001b[38;5;28mself\u001b[39m\u001b[38;5;241m.\u001b[39myy\u001b[38;5;241m.\u001b[39mkey\n",
      "\n",
      "    \u001b[38;5;28;01mdef\u001b[39;00m \u001b[38;5;21mtype\u001b[39m(\u001b[38;5;28mself\u001b[39m) \u001b[38;5;241m-\u001b[39m\u001b[38;5;241m>\u001b[39m \u001b[38;5;28mstr\u001b[39m:\n",
      "        \u001b[38;5;28;01mif\u001b[39;00m \u001b[38;5;124m\"\u001b[39m\u001b[38;5;124mEthernet\u001b[39m\u001b[38;5;124m\"\u001b[39m \u001b[38;5;129;01min\u001b[39;00m \u001b[38;5;28mself\u001b[39m\u001b[38;5;241m.\u001b[39myy\u001b[38;5;241m.\u001b[39mkey:\n",
      "            \u001b[38;5;28;01mreturn\u001b[39;00m \u001b[38;5;124m\"\u001b[39m\u001b[38;5;124miana-if-type:ethernetCsmacd\u001b[39m\u001b[38;5;124m\"\u001b[39m\n",
      "        \u001b[38;5;28;01melif\u001b[39;00m \u001b[38;5;124m\"\u001b[39m\u001b[38;5;124mLoopback\u001b[39m\u001b[38;5;124m\"\u001b[39m \u001b[38;5;129;01min\u001b[39;00m \u001b[38;5;28mself\u001b[39m\u001b[38;5;241m.\u001b[39myy\u001b[38;5;241m.\u001b[39mkey:\n",
      "            \u001b[38;5;28;01mreturn\u001b[39;00m \u001b[38;5;124m\"\u001b[39m\u001b[38;5;124miana-if-type:softwareLoopback\u001b[39m\u001b[38;5;124m\"\u001b[39m\n",
      "        \u001b[38;5;28;01melse\u001b[39;00m:\n",
      "            \u001b[38;5;28;01mraise\u001b[39;00m \u001b[38;5;167;01mValueError\u001b[39;00m(\u001b[38;5;124mf\u001b[39m\u001b[38;5;124m\"\u001b[39m\u001b[38;5;124mdon\u001b[39m\u001b[38;5;124m'\u001b[39m\u001b[38;5;124mt know type for interface \u001b[39m\u001b[38;5;132;01m{self.yy.key}\u001b[39;00m\u001b[38;5;124m\"\u001b[39m)\n",
      "\n"
     ]
    }
   ],
   "source": [
    "show_code(tutorial_parser.InterfaceConfig)"
   ]
  },
  {
   "cell_type": "markdown",
   "metadata": {},
   "source": [
    "This container only has leaves so we only have functions named after those leaves that will return the extracted data.\n",
    "\n",
    "Now let's circle back to `openconfig-interfaces:interfaces/interface` and head down to the `subinterfaces` container, which was parsed with the `Subinterfaces` class:"
   ]
  },
  {
   "cell_type": "code",
   "execution_count": 7,
   "metadata": {},
   "outputs": [
    {
     "name": "stdout",
     "output_type": "stream",
     "text": [
      "\u001b[38;5;28;01mclass\u001b[39;00m \u001b[38;5;21;01mSubinterfaces\u001b[39;00m(Parser):\n",
      "    \u001b[38;5;124m\"\"\"\u001b[39m\n",
      "\u001b[38;5;124m    Implements openconfig-interfaces:interfaces/interface/subinterfaces\u001b[39m\n",
      "\u001b[38;5;124m    \"\"\"\u001b[39m\n",
      "\n",
      "    subinterface \u001b[38;5;241m=\u001b[39m Subinterface\n",
      "\n"
     ]
    }
   ],
   "source": [
    "show_code(tutorial_parser.Subinterfaces)"
   ]
  },
  {
   "cell_type": "markdown",
   "metadata": {},
   "source": [
    "Like the `Interface` class, not much to look at here, let's head down to the `Subinterface` class:"
   ]
  },
  {
   "cell_type": "code",
   "execution_count": 8,
   "metadata": {},
   "outputs": [
    {
     "name": "stdout",
     "output_type": "stream",
     "text": [
      "\u001b[38;5;28;01mclass\u001b[39;00m \u001b[38;5;21;01mSubinterface\u001b[39;00m(Parser):\n",
      "    \u001b[38;5;124m\"\"\"\u001b[39m\n",
      "\u001b[38;5;124m    Implements openconfig-interfaces:interfaces/interface/subinterfaces/subinterface\u001b[39m\n",
      "\u001b[38;5;124m    \"\"\"\u001b[39m\n",
      "\n",
      "    \u001b[38;5;28;01mclass\u001b[39;00m \u001b[38;5;21;01mYangify\u001b[39;00m(ParserData):\n",
      "        \u001b[38;5;28;01mdef\u001b[39;00m \u001b[38;5;21mextract_elements\u001b[39m(\u001b[38;5;28mself\u001b[39m) \u001b[38;5;241m-\u001b[39m\u001b[38;5;241m>\u001b[39m Iterator[Tuple[\u001b[38;5;28mstr\u001b[39m, Dict[\u001b[38;5;28mstr\u001b[39m, Any]]]:\n",
      "            \u001b[38;5;124m\"\"\"\u001b[39m\n",
      "\u001b[38;5;124m            IOS subinterfaces are in the root of the configuration and named following\u001b[39m\n",
      "\u001b[38;5;124m            the format ``$parent_interface.$index``. The model specifies the key is\u001b[39m\n",
      "\u001b[38;5;124m            the $index, which is just a number. These means we will need to:\u001b[39m\n",
      "\n",
      "\u001b[38;5;124m            1. Iterate over all the interfaces\u001b[39m\n",
      "\u001b[38;5;124m            2. Filter the ones that don't start by `$parent_interface.`\u001b[39m\n",
      "\u001b[38;5;124m            3. Extract the $index and return it\u001b[39m\n",
      "\u001b[38;5;124m            \"\"\"\u001b[39m\n",
      "            \u001b[38;5;66m# self.keys keeps a record of all the keys found so far in the current\u001b[39m\n",
      "            \u001b[38;5;66m# object. To access them you can use the full YANG path\u001b[39m\n",
      "            parent_key \u001b[38;5;241m=\u001b[39m \u001b[38;5;28mself\u001b[39m\u001b[38;5;241m.\u001b[39mkeys[\u001b[38;5;124m\"\u001b[39m\u001b[38;5;124m/openconfig-interfaces:interfaces/interface\u001b[39m\u001b[38;5;124m\"\u001b[39m]\n",
      "            \u001b[38;5;28;01mfor\u001b[39;00m k, v \u001b[38;5;129;01min\u001b[39;00m \u001b[38;5;28mself\u001b[39m\u001b[38;5;241m.\u001b[39mroot_native[\u001b[38;5;124m\"\u001b[39m\u001b[38;5;124minterface\u001b[39m\u001b[38;5;124m\"\u001b[39m]\u001b[38;5;241m.\u001b[39mitems():\n",
      "                \u001b[38;5;28;01mif\u001b[39;00m k\u001b[38;5;241m.\u001b[39mstartswith(\u001b[38;5;124mf\u001b[39m\u001b[38;5;124m\"\u001b[39m\u001b[38;5;132;01m{parent_key}\u001b[39;00m\u001b[38;5;124m.\u001b[39m\u001b[38;5;124m\"\u001b[39m):\n",
      "                    \u001b[38;5;28;01myield\u001b[39;00m k, v\n",
      "\n",
      "    config \u001b[38;5;241m=\u001b[39m SubinterfaceConfig\n",
      "\n",
      "    \u001b[38;5;28;01mdef\u001b[39;00m \u001b[38;5;21mindex\u001b[39m(\u001b[38;5;28mself\u001b[39m) \u001b[38;5;241m-\u001b[39m\u001b[38;5;241m>\u001b[39m \u001b[38;5;28mint\u001b[39m:\n",
      "        \u001b[38;5;28;01mreturn\u001b[39;00m \u001b[38;5;28mint\u001b[39m(\u001b[38;5;28mself\u001b[39m\u001b[38;5;241m.\u001b[39myy\u001b[38;5;241m.\u001b[39mkey\u001b[38;5;241m.\u001b[39msplit(\u001b[38;5;124m\"\u001b[39m\u001b[38;5;124m.\u001b[39m\u001b[38;5;124m\"\u001b[39m)[\u001b[38;5;241m-\u001b[39m\u001b[38;5;241m1\u001b[39m])\n",
      "\n"
     ]
    }
   ],
   "source": [
    "show_code(tutorial_parser.Subinterface)"
   ]
  },
  {
   "cell_type": "markdown",
   "metadata": {},
   "source": [
    "This almost looks identical to the `Interface` class. Extracting the elements is a bit tricker as it's explained in the code but it's still quite similar. The `index` function that extracts is also similar to the `name` function in the `Interface` class, however, the index is just what's after the `.` in the interface name, so we need to extract that from the key and convert it into an integer as that's what the mode expects.\n",
    "\n",
    "Finally, let's look at the `SubinterfaceConfig` class:"
   ]
  },
  {
   "cell_type": "code",
   "execution_count": 9,
   "metadata": {},
   "outputs": [
    {
     "name": "stdout",
     "output_type": "stream",
     "text": [
      "\u001b[38;5;28;01mclass\u001b[39;00m \u001b[38;5;21;01mSubinterfaceConfig\u001b[39;00m(Parser):\n",
      "    \u001b[38;5;124m\"\"\"\u001b[39m\n",
      "\u001b[38;5;124m    Implements openconfig-interfaces:interfaces/interface/subinterfaces/subinterface/config\u001b[39m\n",
      "\u001b[38;5;124m    \"\"\"\u001b[39m\n",
      "\n",
      "    \u001b[38;5;28;01mdef\u001b[39;00m \u001b[38;5;21mdescription\u001b[39m(\u001b[38;5;28mself\u001b[39m) \u001b[38;5;241m-\u001b[39m\u001b[38;5;241m>\u001b[39m Optional[\u001b[38;5;28mstr\u001b[39m]:\n",
      "        \u001b[38;5;28;01mreturn\u001b[39;00m cast(Optional[\u001b[38;5;28mstr\u001b[39m], \u001b[38;5;28mself\u001b[39m\u001b[38;5;241m.\u001b[39myy\u001b[38;5;241m.\u001b[39mnative\u001b[38;5;241m.\u001b[39mget(\u001b[38;5;124m\"\u001b[39m\u001b[38;5;124mdescription\u001b[39m\u001b[38;5;124m\"\u001b[39m, {})\u001b[38;5;241m.\u001b[39mget(\u001b[38;5;124m\"\u001b[39m\u001b[38;5;124m#text\u001b[39m\u001b[38;5;124m\"\u001b[39m))\n",
      "\n",
      "    \u001b[38;5;28;01mdef\u001b[39;00m \u001b[38;5;21mindex\u001b[39m(\u001b[38;5;28mself\u001b[39m) \u001b[38;5;241m-\u001b[39m\u001b[38;5;241m>\u001b[39m \u001b[38;5;28mint\u001b[39m:\n",
      "        \u001b[38;5;28;01mreturn\u001b[39;00m \u001b[38;5;28mint\u001b[39m(\u001b[38;5;28mself\u001b[39m\u001b[38;5;241m.\u001b[39myy\u001b[38;5;241m.\u001b[39mkey\u001b[38;5;241m.\u001b[39msplit(\u001b[38;5;124m\"\u001b[39m\u001b[38;5;124m.\u001b[39m\u001b[38;5;124m\"\u001b[39m)[\u001b[38;5;241m-\u001b[39m\u001b[38;5;241m1\u001b[39m])\n",
      "\n"
     ]
    }
   ],
   "source": [
    "show_code(tutorial_parser.SubinterfaceConfig)"
   ]
  },
  {
   "cell_type": "markdown",
   "metadata": {},
   "source": [
    "At this point I am sure there isn't much to add here :)\n",
    "\n",
    "Now that we have the parser classes we need to create the root parser. The root parser has the following functions:\n",
    "\n",
    "1. Allow the user pick and choose which parsers to use\n",
    "2. Initialize the configuration, if needed.\n",
    "3. Perform some post operations, if needed.\n",
    "\n",
    "## Using the parser\n",
    "\n",
    "Our root class is going to load the `Interfaces` parser we explored before and use `parse_indented_config` to prepare the configuration:"
   ]
  },
  {
   "cell_type": "code",
   "execution_count": 10,
   "metadata": {},
   "outputs": [],
   "source": [
    "from yangify import parser\n",
    "from yangify.parser.text_tree import parse_indented_config\n",
    "\n",
    "class IOSParser(parser.RootParser):\n",
    "    class Yangify(parser.ParserData):\n",
    "        def init(self) -> None:\n",
    "            self.root_native = parse_indented_config(self.native.splitlines())\n",
    "            self.native = self.root_native\n",
    "\n",
    "    interfaces = tutorial_parser.Interfaces"
   ]
  },
  {
   "cell_type": "markdown",
   "metadata": {},
   "source": [
    "Now we need to load the configuration file:"
   ]
  },
  {
   "cell_type": "code",
   "execution_count": 11,
   "metadata": {},
   "outputs": [],
   "source": [
    "with open(\"data/ios/config.txt\", \"r\") as f:\n",
    "    config = f.read()"
   ]
  },
  {
   "cell_type": "markdown",
   "metadata": {},
   "source": [
    "Now we will create the datamodel as we will need it later on:"
   ]
  },
  {
   "cell_type": "code",
   "execution_count": 12,
   "metadata": {},
   "outputs": [],
   "source": [
    "from yangson.datamodel import DataModel\n",
    "dm = DataModel.from_file(\"yang/yang-library-data.json\", [\"yang/yang-modules/ietf\", \"yang/yang-modules/openconfig\"])"
   ]
  },
  {
   "cell_type": "markdown",
   "metadata": {},
   "source": [
    "Finally, we are going to instantiate the `IOSParser` and call the `process` method: "
   ]
  },
  {
   "cell_type": "code",
   "execution_count": 13,
   "metadata": {},
   "outputs": [],
   "source": [
    "p = IOSParser(dm, native=config)\n",
    "result = p.process()"
   ]
  },
  {
   "cell_type": "markdown",
   "metadata": {},
   "source": [
    "Now that we got the processed object, let's see the result:"
   ]
  },
  {
   "cell_type": "code",
   "execution_count": 14,
   "metadata": {},
   "outputs": [
    {
     "name": "stdout",
     "output_type": "stream",
     "text": [
      "{\n",
      "    \"openconfig-interfaces:interfaces\": {\n",
      "        \"interface\": [\n",
      "            {\n",
      "                \"name\": \"FastEthernet1\",\n",
      "                \"config\": {\n",
      "                    \"name\": \"FastEthernet1\",\n",
      "                    \"type\": \"iana-if-type:ethernetCsmacd\",\n",
      "                    \"description\": \"This is Fa1\",\n",
      "                    \"enabled\": false\n",
      "                },\n",
      "                \"subinterfaces\": {\n",
      "                    \"subinterface\": [\n",
      "                        {\n",
      "                            \"index\": 1,\n",
      "                            \"config\": {\n",
      "                                \"index\": 1,\n",
      "                                \"description\": \"This is Fa1.1\"\n",
      "                            }\n",
      "                        },\n",
      "                        {\n",
      "                            \"index\": 2,\n",
      "                            \"config\": {\n",
      "                                \"index\": 2,\n",
      "                                \"description\": \"This is Fa1.2\"\n",
      "                            }\n",
      "                        }\n",
      "                    ]\n",
      "                }\n",
      "            },\n",
      "            {\n",
      "                \"name\": \"FastEthernet3\",\n",
      "                \"config\": {\n",
      "                    \"name\": \"FastEthernet3\",\n",
      "                    \"type\": \"iana-if-type:ethernetCsmacd\",\n",
      "                    \"description\": \"This is Fa3\",\n",
      "                    \"enabled\": true\n",
      "                }\n",
      "            },\n",
      "            {\n",
      "                \"name\": \"FastEthernet4\",\n",
      "                \"config\": {\n",
      "                    \"name\": \"FastEthernet4\",\n",
      "                    \"type\": \"iana-if-type:ethernetCsmacd\",\n",
      "                    \"enabled\": false\n",
      "                }\n",
      "            }\n",
      "        ]\n",
      "    }\n",
      "}\n"
     ]
    }
   ],
   "source": [
    "import json\n",
    "print(json.dumps(result.raw_value(), indent=4))"
   ]
  },
  {
   "cell_type": "markdown",
   "metadata": {},
   "source": [
    "## Adding a second parser\n",
    "\n",
    "In the previous example we created a parser that only parses the `openconfig-interfaces` model, however, our `tutorial_parser.py` contains code to also parse the `openconfig-vlan` model, let's create a second `RootParser` class that can parse both models:"
   ]
  },
  {
   "cell_type": "code",
   "execution_count": 15,
   "metadata": {},
   "outputs": [],
   "source": [
    "from yangify import parser\n",
    "from yangify.parser.text_tree import parse_indented_config\n",
    "\n",
    "class IOSParser2(parser.RootParser):\n",
    "    class Yangify(parser.ParserData):\n",
    "        def init(self) -> None:\n",
    "            self.root_native = parse_indented_config(self.native.splitlines())\n",
    "            self.native = self.root_native\n",
    "\n",
    "    interfaces = tutorial_parser.Interfaces\n",
    "    vlans = tutorial_parser.Vlans"
   ]
  },
  {
   "cell_type": "code",
   "execution_count": 16,
   "metadata": {},
   "outputs": [],
   "source": [
    "p = IOSParser2(dm, native=config)\n",
    "result = p.process()"
   ]
  },
  {
   "cell_type": "code",
   "execution_count": 17,
   "metadata": {},
   "outputs": [
    {
     "name": "stdout",
     "output_type": "stream",
     "text": [
      "{\n",
      "    \"openconfig-interfaces:interfaces\": {\n",
      "        \"interface\": [\n",
      "            {\n",
      "                \"name\": \"FastEthernet1\",\n",
      "                \"config\": {\n",
      "                    \"name\": \"FastEthernet1\",\n",
      "                    \"type\": \"iana-if-type:ethernetCsmacd\",\n",
      "                    \"description\": \"This is Fa1\",\n",
      "                    \"enabled\": false\n",
      "                },\n",
      "                \"subinterfaces\": {\n",
      "                    \"subinterface\": [\n",
      "                        {\n",
      "                            \"index\": 1,\n",
      "                            \"config\": {\n",
      "                                \"index\": 1,\n",
      "                                \"description\": \"This is Fa1.1\"\n",
      "                            }\n",
      "                        },\n",
      "                        {\n",
      "                            \"index\": 2,\n",
      "                            \"config\": {\n",
      "                                \"index\": 2,\n",
      "                                \"description\": \"This is Fa1.2\"\n",
      "                            }\n",
      "                        }\n",
      "                    ]\n",
      "                }\n",
      "            },\n",
      "            {\n",
      "                \"name\": \"FastEthernet3\",\n",
      "                \"config\": {\n",
      "                    \"name\": \"FastEthernet3\",\n",
      "                    \"type\": \"iana-if-type:ethernetCsmacd\",\n",
      "                    \"description\": \"This is Fa3\",\n",
      "                    \"enabled\": true\n",
      "                }\n",
      "            },\n",
      "            {\n",
      "                \"name\": \"FastEthernet4\",\n",
      "                \"config\": {\n",
      "                    \"name\": \"FastEthernet4\",\n",
      "                    \"type\": \"iana-if-type:ethernetCsmacd\",\n",
      "                    \"enabled\": false\n",
      "                }\n",
      "            }\n",
      "        ]\n",
      "    },\n",
      "    \"openconfig-vlan:vlans\": {\n",
      "        \"vlan\": [\n",
      "            {\n",
      "                \"vlan-id\": 10,\n",
      "                \"config\": {\n",
      "                    \"vlan-id\": 10,\n",
      "                    \"name\": \"prod\",\n",
      "                    \"status\": \"ACTIVE\"\n",
      "                }\n",
      "            },\n",
      "            {\n",
      "                \"vlan-id\": 20,\n",
      "                \"config\": {\n",
      "                    \"vlan-id\": 20,\n",
      "                    \"name\": \"dev\",\n",
      "                    \"status\": \"SUSPENDED\"\n",
      "                }\n",
      "            }\n",
      "        ]\n",
      "    }\n",
      "}\n"
     ]
    }
   ],
   "source": [
    "import json\n",
    "print(json.dumps(result.raw_value(), indent=4))"
   ]
  }
 ],
 "metadata": {
  "celltoolbar": "Edit Metadata",
  "kernelspec": {
   "display_name": "Python 3",
   "language": "python",
   "name": "python3"
  },
  "language_info": {
   "codemirror_mode": {
    "name": "ipython",
    "version": 3
   },
   "file_extension": ".py",
   "mimetype": "text/x-python",
   "name": "python",
   "nbconvert_exporter": "python",
   "pygments_lexer": "ipython3",
   "version": "3.6.10"
  }
 },
 "nbformat": 4,
 "nbformat_minor": 2
}
